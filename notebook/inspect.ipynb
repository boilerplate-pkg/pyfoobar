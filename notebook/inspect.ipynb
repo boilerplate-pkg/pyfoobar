{
 "cells": [
  {
   "cell_type": "code",
   "execution_count": 1,
   "metadata": {},
   "outputs": [],
   "source": [
    "import inspect\n",
    "import functools"
   ]
  },
  {
   "cell_type": "code",
   "execution_count": 4,
   "metadata": {},
   "outputs": [
    {
     "name": "stderr",
     "output_type": "stream",
     "text": [
      "/home/tony/ws.nlp/pyfoobar/venv/lib/python3.7/site-packages/ipykernel_launcher.py:1: DeprecationWarning: inspect.getargspec() is deprecated, use inspect.signature() or inspect.getfullargspec()\n",
      "  \"\"\"Entry point for launching an IPython kernel.\n"
     ]
    },
    {
     "data": {
      "text/plain": [
       "ArgSpec(args=['func'], varargs=None, keywords=None, defaults=None)"
      ]
     },
     "execution_count": 4,
     "metadata": {},
     "output_type": "execute_result"
    }
   ],
   "source": [
    "inspect.getargspec(inspect.getargspec)"
   ]
  },
  {
   "cell_type": "code",
   "execution_count": 5,
   "metadata": {},
   "outputs": [
    {
     "data": {
      "text/plain": [
       "FullArgSpec(args=['func'], varargs=None, varkw=None, defaults=None, kwonlyargs=[], kwonlydefaults=None, annotations={})"
      ]
     },
     "execution_count": 5,
     "metadata": {},
     "output_type": "execute_result"
    }
   ],
   "source": [
    "inspect.getfullargspec(inspect.getfullargspec)"
   ]
  },
  {
   "cell_type": "code",
   "execution_count": 7,
   "metadata": {},
   "outputs": [],
   "source": [
    "def printmem(o) :\n",
    "    ls = [ f for f in dir(o) if inspect.isfunction(f)]\n",
    "    print(ls)\n",
    "    "
   ]
  },
  {
   "cell_type": "code",
   "execution_count": 2,
   "metadata": {},
   "outputs": [],
   "source": [
    "d = {}"
   ]
  },
  {
   "cell_type": "code",
   "execution_count": 64,
   "metadata": {},
   "outputs": [
    {
     "data": {
      "text/plain": [
       "True"
      ]
     },
     "execution_count": 64,
     "metadata": {},
     "output_type": "execute_result"
    }
   ],
   "source": [
    "callable(print)"
   ]
  },
  {
   "cell_type": "code",
   "execution_count": 43,
   "metadata": {},
   "outputs": [],
   "source": [
    "mems = [ (f[0], f[1], inspect.getdoc(f[1]).split(\"\\n\")[0]) for f in inspect.getmembers(d) if f[1] is not None]"
   ]
  },
  {
   "cell_type": "code",
   "execution_count": 57,
   "metadata": {},
   "outputs": [],
   "source": [
    "fun = filter(lambda f : inspect.isfunction(f[1]) or inspect.ismethod(f[1]), mems)"
   ]
  },
  {
   "cell_type": "code",
   "execution_count": 70,
   "metadata": {},
   "outputs": [],
   "source": [
    "def premem(ls):\n",
    "    for f in ls:\n",
    "        print(\"{:>20}{}\".format(f[0], f[2]))"
   ]
  },
  {
   "cell_type": "code",
   "execution_count": 59,
   "metadata": {
    "scrolled": true
   },
   "outputs": [
    {
     "data": {
      "text/plain": [
       "[]"
      ]
     },
     "execution_count": 59,
     "metadata": {},
     "output_type": "execute_result"
    }
   ],
   "source": [
    "[ m for m in fun]"
   ]
  },
  {
   "cell_type": "code",
   "execution_count": 74,
   "metadata": {},
   "outputs": [
    {
     "name": "stderr",
     "output_type": "stream",
     "text": [
      "/home/tony/ws.nlp/pyfoobar/venv/lib/python3.7/site-packages/ipykernel_launcher.py:1: DeprecationWarning: inspect.getargspec() is deprecated, use inspect.signature() or inspect.getfullargspec()\n",
      "  \"\"\"Entry point for launching an IPython kernel.\n"
     ]
    },
    {
     "data": {
      "text/plain": [
       "ArgSpec(args=['ls'], varargs=None, keywords=None, defaults=None)"
      ]
     },
     "execution_count": 74,
     "metadata": {},
     "output_type": "execute_result"
    }
   ],
   "source": [
    "inspect.getargspec(premem)"
   ]
  },
  {
   "cell_type": "code",
   "execution_count": 75,
   "metadata": {},
   "outputs": [
    {
     "data": {
      "text/plain": [
       "FullArgSpec(args=['ls'], varargs=None, varkw=None, defaults=None, kwonlyargs=[], kwonlydefaults=None, annotations={})"
      ]
     },
     "execution_count": 75,
     "metadata": {},
     "output_type": "execute_result"
    }
   ],
   "source": [
    "inspect.getfullargspec(premem)"
   ]
  },
  {
   "cell_type": "code",
   "execution_count": 77,
   "metadata": {},
   "outputs": [],
   "source": [
    "s = inspect.signature(premem)"
   ]
  },
  {
   "cell_type": "code",
   "execution_count": 78,
   "metadata": {},
   "outputs": [
    {
     "data": {
      "text/plain": [
       "['__class__',\n",
       " '__delattr__',\n",
       " '__dir__',\n",
       " '__doc__',\n",
       " '__eq__',\n",
       " '__format__',\n",
       " '__ge__',\n",
       " '__getattribute__',\n",
       " '__gt__',\n",
       " '__hash__',\n",
       " '__init__',\n",
       " '__init_subclass__',\n",
       " '__le__',\n",
       " '__lt__',\n",
       " '__module__',\n",
       " '__ne__',\n",
       " '__new__',\n",
       " '__reduce__',\n",
       " '__reduce_ex__',\n",
       " '__repr__',\n",
       " '__setattr__',\n",
       " '__setstate__',\n",
       " '__sizeof__',\n",
       " '__slots__',\n",
       " '__str__',\n",
       " '__subclasshook__',\n",
       " '_bind',\n",
       " '_bound_arguments_cls',\n",
       " '_hash_basis',\n",
       " '_parameter_cls',\n",
       " '_parameters',\n",
       " '_return_annotation',\n",
       " 'bind',\n",
       " 'bind_partial',\n",
       " 'empty',\n",
       " 'from_builtin',\n",
       " 'from_callable',\n",
       " 'from_function',\n",
       " 'parameters',\n",
       " 'replace',\n",
       " 'return_annotation']"
      ]
     },
     "execution_count": 78,
     "metadata": {},
     "output_type": "execute_result"
    }
   ],
   "source": [
    "dir(s)"
   ]
  },
  {
   "cell_type": "code",
   "execution_count": 65,
   "metadata": {
    "scrolled": true
   },
   "outputs": [
    {
     "ename": "TypeError",
     "evalue": "unsupported callable",
     "output_type": "error",
     "traceback": [
      "\u001b[0;31m---------------------------------------------------------------------------\u001b[0m",
      "\u001b[0;31mValueError\u001b[0m                                Traceback (most recent call last)",
      "\u001b[0;32m~/anaconda3/lib/python3.7/inspect.py\u001b[0m in \u001b[0;36mgetfullargspec\u001b[0;34m(func)\u001b[0m\n\u001b[1;32m   1118\u001b[0m                                        \u001b[0mskip_bound_arg\u001b[0m\u001b[0;34m=\u001b[0m\u001b[0;32mFalse\u001b[0m\u001b[0;34m,\u001b[0m\u001b[0;34m\u001b[0m\u001b[0m\n\u001b[0;32m-> 1119\u001b[0;31m                                        sigcls=Signature)\n\u001b[0m\u001b[1;32m   1120\u001b[0m     \u001b[0;32mexcept\u001b[0m \u001b[0mException\u001b[0m \u001b[0;32mas\u001b[0m \u001b[0mex\u001b[0m\u001b[0;34m:\u001b[0m\u001b[0;34m\u001b[0m\u001b[0m\n",
      "\u001b[0;32m~/anaconda3/lib/python3.7/inspect.py\u001b[0m in \u001b[0;36m_signature_from_callable\u001b[0;34m(obj, follow_wrapper_chains, skip_bound_arg, sigcls)\u001b[0m\n\u001b[1;32m   2356\u001b[0m                     raise ValueError(\n\u001b[0;32m-> 2357\u001b[0;31m                         'no signature found for builtin type {!r}'.format(obj))\n\u001b[0m\u001b[1;32m   2358\u001b[0m \u001b[0;34m\u001b[0m\u001b[0m\n",
      "\u001b[0;31mValueError\u001b[0m: no signature found for builtin type <class 'dict'>",
      "\nThe above exception was the direct cause of the following exception:\n",
      "\u001b[0;31mTypeError\u001b[0m                                 Traceback (most recent call last)",
      "\u001b[0;32m<ipython-input-65-01c169ad284a>\u001b[0m in \u001b[0;36m<module>\u001b[0;34m\u001b[0m\n\u001b[0;32m----> 1\u001b[0;31m \u001b[0;34m[\u001b[0m\u001b[0minspect\u001b[0m\u001b[0;34m.\u001b[0m\u001b[0mgetfullargspec\u001b[0m\u001b[0;34m(\u001b[0m\u001b[0mf\u001b[0m\u001b[0;34m[\u001b[0m\u001b[0;36m1\u001b[0m\u001b[0;34m]\u001b[0m\u001b[0;34m)\u001b[0m \u001b[0;32mfor\u001b[0m \u001b[0mf\u001b[0m \u001b[0;32min\u001b[0m \u001b[0mmems\u001b[0m \u001b[0;32mif\u001b[0m \u001b[0mcallable\u001b[0m\u001b[0;34m(\u001b[0m\u001b[0mf\u001b[0m\u001b[0;34m[\u001b[0m\u001b[0;36m1\u001b[0m\u001b[0;34m]\u001b[0m\u001b[0;34m)\u001b[0m\u001b[0;34m]\u001b[0m\u001b[0;34m\u001b[0m\u001b[0m\n\u001b[0m",
      "\u001b[0;32m<ipython-input-65-01c169ad284a>\u001b[0m in \u001b[0;36m<listcomp>\u001b[0;34m(.0)\u001b[0m\n\u001b[0;32m----> 1\u001b[0;31m \u001b[0;34m[\u001b[0m\u001b[0minspect\u001b[0m\u001b[0;34m.\u001b[0m\u001b[0mgetfullargspec\u001b[0m\u001b[0;34m(\u001b[0m\u001b[0mf\u001b[0m\u001b[0;34m[\u001b[0m\u001b[0;36m1\u001b[0m\u001b[0;34m]\u001b[0m\u001b[0;34m)\u001b[0m \u001b[0;32mfor\u001b[0m \u001b[0mf\u001b[0m \u001b[0;32min\u001b[0m \u001b[0mmems\u001b[0m \u001b[0;32mif\u001b[0m \u001b[0mcallable\u001b[0m\u001b[0;34m(\u001b[0m\u001b[0mf\u001b[0m\u001b[0;34m[\u001b[0m\u001b[0;36m1\u001b[0m\u001b[0;34m]\u001b[0m\u001b[0;34m)\u001b[0m\u001b[0;34m]\u001b[0m\u001b[0;34m\u001b[0m\u001b[0m\n\u001b[0m",
      "\u001b[0;32m~/anaconda3/lib/python3.7/inspect.py\u001b[0m in \u001b[0;36mgetfullargspec\u001b[0;34m(func)\u001b[0m\n\u001b[1;32m   1123\u001b[0m         \u001b[0;31m# else. So to be fully backwards compatible, we catch all\u001b[0m\u001b[0;34m\u001b[0m\u001b[0;34m\u001b[0m\u001b[0m\n\u001b[1;32m   1124\u001b[0m         \u001b[0;31m# possible exceptions here, and reraise a TypeError.\u001b[0m\u001b[0;34m\u001b[0m\u001b[0;34m\u001b[0m\u001b[0m\n\u001b[0;32m-> 1125\u001b[0;31m         \u001b[0;32mraise\u001b[0m \u001b[0mTypeError\u001b[0m\u001b[0;34m(\u001b[0m\u001b[0;34m'unsupported callable'\u001b[0m\u001b[0;34m)\u001b[0m \u001b[0;32mfrom\u001b[0m \u001b[0mex\u001b[0m\u001b[0;34m\u001b[0m\u001b[0m\n\u001b[0m\u001b[1;32m   1126\u001b[0m \u001b[0;34m\u001b[0m\u001b[0m\n\u001b[1;32m   1127\u001b[0m     \u001b[0margs\u001b[0m \u001b[0;34m=\u001b[0m \u001b[0;34m[\u001b[0m\u001b[0;34m]\u001b[0m\u001b[0;34m\u001b[0m\u001b[0m\n",
      "\u001b[0;31mTypeError\u001b[0m: unsupported callable"
     ]
    }
   ],
   "source": [
    "[inspect.getfullargspec(f[1]) for f in mems if callable(f[1])]"
   ]
  },
  {
   "cell_type": "code",
   "execution_count": 62,
   "metadata": {},
   "outputs": [
    {
     "data": {
      "text/plain": [
       "[('__class__', dict, 'dict() -> new empty dictionary'),\n",
       " ('__contains__',\n",
       "  <function dict.__contains__(key, /)>,\n",
       "  'True if the dictionary has the specified key, else False.'),\n",
       " ('__delattr__',\n",
       "  <method-wrapper '__delattr__' of dict object at 0x7fdfe03635a0>,\n",
       "  'Implement delattr(self, name).'),\n",
       " ('__delitem__',\n",
       "  <method-wrapper '__delitem__' of dict object at 0x7fdfe03635a0>,\n",
       "  'Delete self[key].'),\n",
       " ('__dir__', <function dict.__dir__()>, 'Default dir() implementation.'),\n",
       " ('__doc__',\n",
       "  \"dict() -> new empty dictionary\\ndict(mapping) -> new dictionary initialized from a mapping object's\\n    (key, value) pairs\\ndict(iterable) -> new dictionary initialized as if via:\\n    d = {}\\n    for k, v in iterable:\\n        d[k] = v\\ndict(**kwargs) -> new dictionary initialized with the name=value pairs\\n    in the keyword argument list.  For example:  dict(one=1, two=2)\",\n",
       "  \"str(object='') -> str\"),\n",
       " ('__eq__',\n",
       "  <method-wrapper '__eq__' of dict object at 0x7fdfe03635a0>,\n",
       "  'Return self==value.'),\n",
       " ('__format__',\n",
       "  <function dict.__format__(format_spec, /)>,\n",
       "  'Default object formatter.'),\n",
       " ('__ge__',\n",
       "  <method-wrapper '__ge__' of dict object at 0x7fdfe03635a0>,\n",
       "  'Return self>=value.'),\n",
       " ('__getattribute__',\n",
       "  <method-wrapper '__getattribute__' of dict object at 0x7fdfe03635a0>,\n",
       "  'Return getattr(self, name).'),\n",
       " ('__getitem__', <function dict.__getitem__>, 'x.__getitem__(y) <==> x[y]'),\n",
       " ('__gt__',\n",
       "  <method-wrapper '__gt__' of dict object at 0x7fdfe03635a0>,\n",
       "  'Return self>value.'),\n",
       " ('__init__',\n",
       "  <method-wrapper '__init__' of dict object at 0x7fdfe03635a0>,\n",
       "  'Initialize self.  See help(type(self)) for accurate signature.'),\n",
       " ('__init_subclass__',\n",
       "  <function dict.__init_subclass__>,\n",
       "  'This method is called when a class is subclassed.'),\n",
       " ('__iter__',\n",
       "  <method-wrapper '__iter__' of dict object at 0x7fdfe03635a0>,\n",
       "  'Implement iter(self).'),\n",
       " ('__le__',\n",
       "  <method-wrapper '__le__' of dict object at 0x7fdfe03635a0>,\n",
       "  'Return self<=value.'),\n",
       " ('__len__',\n",
       "  <method-wrapper '__len__' of dict object at 0x7fdfe03635a0>,\n",
       "  'Return len(self).'),\n",
       " ('__lt__',\n",
       "  <method-wrapper '__lt__' of dict object at 0x7fdfe03635a0>,\n",
       "  'Return self<value.'),\n",
       " ('__ne__',\n",
       "  <method-wrapper '__ne__' of dict object at 0x7fdfe03635a0>,\n",
       "  'Return self!=value.'),\n",
       " ('__new__',\n",
       "  <function dict.__new__(*args, **kwargs)>,\n",
       "  'Create and return a new object.  See help(type) for accurate signature.'),\n",
       " ('__reduce__', <function dict.__reduce__()>, 'Helper for pickle.'),\n",
       " ('__reduce_ex__',\n",
       "  <function dict.__reduce_ex__(protocol, /)>,\n",
       "  'Helper for pickle.'),\n",
       " ('__repr__',\n",
       "  <method-wrapper '__repr__' of dict object at 0x7fdfe03635a0>,\n",
       "  'Return repr(self).'),\n",
       " ('__setattr__',\n",
       "  <method-wrapper '__setattr__' of dict object at 0x7fdfe03635a0>,\n",
       "  'Implement setattr(self, name, value).'),\n",
       " ('__setitem__',\n",
       "  <method-wrapper '__setitem__' of dict object at 0x7fdfe03635a0>,\n",
       "  'Set self[key] to value.'),\n",
       " ('__sizeof__',\n",
       "  <function dict.__sizeof__>,\n",
       "  'D.__sizeof__() -> size of D in memory, in bytes'),\n",
       " ('__str__',\n",
       "  <method-wrapper '__str__' of dict object at 0x7fdfe03635a0>,\n",
       "  'Return str(self).'),\n",
       " ('__subclasshook__',\n",
       "  <function dict.__subclasshook__>,\n",
       "  'Abstract classes can override this to customize issubclass().'),\n",
       " ('clear',\n",
       "  <function dict.clear>,\n",
       "  'D.clear() -> None.  Remove all items from D.'),\n",
       " ('copy', <function dict.copy>, 'D.copy() -> a shallow copy of D'),\n",
       " ('fromkeys',\n",
       "  <function dict.fromkeys(iterable, value=None, /)>,\n",
       "  'Create a new dictionary with keys from iterable and values set to value.'),\n",
       " ('get',\n",
       "  <function dict.get(key, default=None, /)>,\n",
       "  'Return the value for key if key is in the dictionary, else default.'),\n",
       " ('items',\n",
       "  <function dict.items>,\n",
       "  \"D.items() -> a set-like object providing a view on D's items\"),\n",
       " ('keys',\n",
       "  <function dict.keys>,\n",
       "  \"D.keys() -> a set-like object providing a view on D's keys\"),\n",
       " ('pop',\n",
       "  <function dict.pop>,\n",
       "  'D.pop(k[,d]) -> v, remove specified key and return the corresponding value.'),\n",
       " ('popitem',\n",
       "  <function dict.popitem>,\n",
       "  'D.popitem() -> (k, v), remove and return some (key, value) pair as a'),\n",
       " ('setdefault',\n",
       "  <function dict.setdefault(key, default=None, /)>,\n",
       "  'Insert key with a value of default if key is not in the dictionary.'),\n",
       " ('update',\n",
       "  <function dict.update>,\n",
       "  'D.update([E, ]**F) -> None.  Update D from dict/iterable E and F.'),\n",
       " ('values',\n",
       "  <function dict.values>,\n",
       "  \"D.values() -> an object providing a view on D's values\")]"
      ]
     },
     "execution_count": 62,
     "metadata": {},
     "output_type": "execute_result"
    }
   ],
   "source": [
    "[(f[0], f[1], f[2]) for f in mems if inspect.getfullargspec]"
   ]
  },
  {
   "cell_type": "code",
   "execution_count": null,
   "metadata": {},
   "outputs": [],
   "source": []
  }
 ],
 "metadata": {
  "kernelspec": {
   "display_name": "Python 3",
   "language": "python",
   "name": "python3"
  },
  "language_info": {
   "codemirror_mode": {
    "name": "ipython",
    "version": 3
   },
   "file_extension": ".py",
   "mimetype": "text/x-python",
   "name": "python",
   "nbconvert_exporter": "python",
   "pygments_lexer": "ipython3",
   "version": "3.7.0"
  },
  "toc": {
   "nav_menu": {},
   "number_sections": true,
   "sideBar": true,
   "skip_h1_title": false,
   "title_cell": "Table of Contents",
   "title_sidebar": "Contents",
   "toc_cell": false,
   "toc_position": {},
   "toc_section_display": true,
   "toc_window_display": false
  }
 },
 "nbformat": 4,
 "nbformat_minor": 2
}
